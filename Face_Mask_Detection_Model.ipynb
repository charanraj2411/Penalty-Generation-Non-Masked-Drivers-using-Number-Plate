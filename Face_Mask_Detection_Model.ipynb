{
 "cells": [
  {
   "cell_type": "code",
   "execution_count": 2,
   "metadata": {},
   "outputs": [],
   "source": [
    "import numpy as np\n",
    "\n",
    "data=np.load('data.npy')\n",
    "target=np.load('target.npy')"
   ]
  },
  {
   "cell_type": "code",
   "execution_count": 3,
   "metadata": {
    "scrolled": false
   },
   "outputs": [
    {
     "name": "stdout",
     "output_type": "stream",
     "text": [
      "[[1. 0.]\n",
      " [1. 0.]\n",
      " [1. 0.]\n",
      " ...\n",
      " [0. 1.]\n",
      " [0. 1.]\n",
      " [0. 1.]]\n"
     ]
    }
   ],
   "source": [
    "print(target)"
   ]
  },
  {
   "cell_type": "code",
   "execution_count": 4,
   "metadata": {},
   "outputs": [],
   "source": [
    "from keras.models import Sequential\n",
    "from keras.layers import Dense,Activation,Flatten,Dropout\n",
    "from keras.layers import Conv2D,MaxPooling2D\n",
    "from keras.callbacks import ModelCheckpoint\n",
    "\n",
    "model=Sequential()\n",
    "\n",
    "model.add(Conv2D(200,(3,3),input_shape=data.shape[1:]))\n",
    "model.add(Activation('relu'))\n",
    "model.add(MaxPooling2D(pool_size=(2,2)))\n",
    "\n",
    "model.add(Conv2D(100,(3,3)))\n",
    "model.add(Activation('relu'))\n",
    "model.add(MaxPooling2D(pool_size=(2,2)))\n",
    "\n",
    "model.add(Flatten())\n",
    "model.add(Dropout(0.5))\n",
    "\n",
    "model.add(Dense(50,activation='relu'))\n",
    "model.add(Dense(2,activation='softmax'))\n",
    "\n",
    "model.compile(loss='categorical_crossentropy',optimizer='adam',metrics=['accuracy'])"
   ]
  },
  {
   "cell_type": "code",
   "execution_count": 5,
   "metadata": {},
   "outputs": [],
   "source": [
    "from sklearn.model_selection import train_test_split\n",
    "\n",
    "train_data,test_data,train_target,test_target=train_test_split(data,target,test_size=0.4)"
   ]
  },
  {
   "cell_type": "code",
   "execution_count": 6,
   "metadata": {
    "scrolled": true
   },
   "outputs": [
    {
     "name": "stdout",
     "output_type": "stream",
     "text": [
      "Epoch 1/20\n",
      "27/27 [==============================] - ETA: 0s - loss: 0.7626 - accuracy: 0.5312WARNING:tensorflow:From C:\\Users\\DELL\\anaconda3\\lib\\site-packages\\tensorflow\\python\\training\\tracking\\tracking.py:111: Model.state_updates (from tensorflow.python.keras.engine.training) is deprecated and will be removed in a future version.\n",
      "Instructions for updating:\n",
      "This property should not be used in TensorFlow 2.0, as updates are applied automatically.\n",
      "WARNING:tensorflow:From C:\\Users\\DELL\\anaconda3\\lib\\site-packages\\tensorflow\\python\\training\\tracking\\tracking.py:111: Layer.updates (from tensorflow.python.keras.engine.base_layer) is deprecated and will be removed in a future version.\n",
      "Instructions for updating:\n",
      "This property should not be used in TensorFlow 2.0, as updates are applied automatically.\n",
      "INFO:tensorflow:Assets written to: model-001.model\\assets\n",
      "27/27 [==============================] - 89s 3s/step - loss: 0.7626 - accuracy: 0.5312 - val_loss: 0.6828 - val_accuracy: 0.6421\n",
      "Epoch 2/20\n",
      "27/27 [==============================] - 62s 2s/step - loss: 0.6919 - accuracy: 0.5336 - val_loss: 0.6874 - val_accuracy: 0.6421\n",
      "Epoch 3/20\n",
      "27/27 [==============================] - 64s 2s/step - loss: 0.6902 - accuracy: 0.5465 - val_loss: 0.7467 - val_accuracy: 0.3579\n",
      "Epoch 4/20\n",
      "27/27 [==============================] - ETA: 0s - loss: 0.6832 - accuracy: 0.5665INFO:tensorflow:Assets written to: model-004.model\\assets\n",
      "27/27 [==============================] - 76s 3s/step - loss: 0.6832 - accuracy: 0.5665 - val_loss: 0.6696 - val_accuracy: 0.5895\n",
      "Epoch 5/20\n",
      "27/27 [==============================] - 78s 3s/step - loss: 0.6538 - accuracy: 0.6219 - val_loss: 0.7276 - val_accuracy: 0.5158\n",
      "Epoch 6/20\n",
      "27/27 [==============================] - 75s 3s/step - loss: 0.6163 - accuracy: 0.6702 - val_loss: 0.7494 - val_accuracy: 0.5158\n",
      "Epoch 7/20\n",
      "27/27 [==============================] - 74s 3s/step - loss: 0.5860 - accuracy: 0.6996 - val_loss: 0.8034 - val_accuracy: 0.5263\n",
      "Epoch 8/20\n",
      "27/27 [==============================] - 65s 2s/step - loss: 0.5285 - accuracy: 0.7326 - val_loss: 0.9890 - val_accuracy: 0.5368\n",
      "Epoch 9/20\n",
      "27/27 [==============================] - 82s 3s/step - loss: 0.5408 - accuracy: 0.7326 - val_loss: 0.7302 - val_accuracy: 0.5895\n",
      "Epoch 10/20\n",
      "27/27 [==============================] - 72s 3s/step - loss: 0.5345 - accuracy: 0.7362 - val_loss: 0.7319 - val_accuracy: 0.6211\n",
      "Epoch 11/20\n",
      "27/27 [==============================] - 58s 2s/step - loss: 0.4432 - accuracy: 0.8057 - val_loss: 0.8174 - val_accuracy: 0.6105\n",
      "Epoch 12/20\n",
      "27/27 [==============================] - 62s 2s/step - loss: 0.4078 - accuracy: 0.8163 - val_loss: 0.8643 - val_accuracy: 0.5579\n",
      "Epoch 13/20\n",
      "27/27 [==============================] - 65s 2s/step - loss: 0.3551 - accuracy: 0.8457 - val_loss: 0.8033 - val_accuracy: 0.6316\n",
      "Epoch 14/20\n",
      "27/27 [==============================] - 58s 2s/step - loss: 0.3109 - accuracy: 0.8681 - val_loss: 0.8074 - val_accuracy: 0.6211\n",
      "Epoch 15/20\n",
      "27/27 [==============================] - 62s 2s/step - loss: 0.2505 - accuracy: 0.8975 - val_loss: 0.9484 - val_accuracy: 0.6316\n",
      "Epoch 16/20\n",
      "27/27 [==============================] - 66s 2s/step - loss: 0.2251 - accuracy: 0.9069 - val_loss: 1.1539 - val_accuracy: 0.6316\n",
      "Epoch 17/20\n",
      "27/27 [==============================] - 65s 2s/step - loss: 0.2206 - accuracy: 0.9176 - val_loss: 1.1585 - val_accuracy: 0.5789\n",
      "Epoch 18/20\n",
      "27/27 [==============================] - 69s 3s/step - loss: 0.1649 - accuracy: 0.9411 - val_loss: 1.2715 - val_accuracy: 0.6105\n",
      "Epoch 19/20\n",
      "27/27 [==============================] - 77s 3s/step - loss: 0.1279 - accuracy: 0.9600 - val_loss: 1.3554 - val_accuracy: 0.6105\n",
      "Epoch 20/20\n",
      "27/27 [==============================] - 63s 2s/step - loss: 0.1289 - accuracy: 0.9470 - val_loss: 1.2635 - val_accuracy: 0.6000\n"
     ]
    }
   ],
   "source": [
    "checkpoint = ModelCheckpoint('model-{epoch:03d}.model',monitor='val_loss',verbose=0,save_best_only=True,mode='auto')\n",
    "history=model.fit(train_data,train_target,epochs=20,callbacks=[checkpoint],validation_split=0.1)"
   ]
  },
  {
   "cell_type": "code",
   "execution_count": 7,
   "metadata": {
    "scrolled": false
   },
   "outputs": [
    {
     "data": {
      "image/png": "[encoded data removed]",
      "text/plain": [
       "<Figure size 432x288 with 1 Axes>"
      ]
     },
     "metadata": {
      "needs_background": "light"
     },
     "output_type": "display_data"
    }
   ],
   "source": [
    "from matplotlib import pyplot as plt\n",
    "\n",
    "plt.plot(history.history['loss'],'r',label='training loss')\n",
    "plt.plot(history.history['val_loss'],label='validation loss')\n",
    "plt.xlabel('# epochs')\n",
    "plt.ylabel('loss')\n",
    "plt.legend()\n",
    "plt.show()"
   ]
  },
  {
   "cell_type": "code",
   "execution_count": 8,
   "metadata": {
    "scrolled": true
   },
   "outputs": [
    {
     "data": {
      "image/png": "[encoded data removed]",
      "text/plain": [
       "<Figure size 432x288 with 1 Axes>"
      ]
     },
     "metadata": {
      "needs_background": "light"
     },
     "output_type": "display_data"
    }
   ],
   "source": [
    "plt.plot(history.history['accuracy'],'r',label='training accuracy')\n",
    "plt.plot(history.history['val_accuracy'],label='validation accuracy')\n",
    "plt.xlabel('# epochs')\n",
    "plt.ylabel('loss')\n",
    "plt.legend()\n",
    "plt.show()"
   ]
  },
  {
   "cell_type": "code",
   "execution_count": 9,
   "metadata": {
    "scrolled": true
   },
   "outputs": [
    {
     "name": "stdout",
     "output_type": "stream",
     "text": [
      "20/20 [==============================] - 14s 686ms/step - loss: 1.1252 - accuracy: 0.6302\n",
      "[1.1252139806747437, 0.6301587224006653]\n"
     ]
    }
   ],
   "source": [
    "print(model.evaluate(test_data,test_target))"
   ]
  },
  {
   "cell_type": "code",
   "execution_count": 10,
   "metadata": {},
   "outputs": [
    {
     "name": "stdout",
     "output_type": "stream",
     "text": [
      "INFO:tensorflow:Assets written to: saved_model/my_model\\assets\n"
     ]
    }
   ],
   "source": [
    "model.save('saved_model/my_model')"
   ]
  },
  {
   "cell_type": "code",
   "execution_count": 11,
   "metadata": {},
   "outputs": [],
   "source": [
    "from keras.models import load_model"
   ]
  },
  {
   "cell_type": "code",
   "execution_count": 12,
   "metadata": {},
   "outputs": [],
   "source": [
    "new_model = load_model('saved_model/my_model')"
   ]
  },
  {
   "cell_type": "code",
   "execution_count": 13,
   "metadata": {},
   "outputs": [],
   "source": [
    "import cv2,os"
   ]
  },
  {
   "cell_type": "code",
   "execution_count": 23,
   "metadata": {},
   "outputs": [],
   "source": [
    "img_path = 'test/755.jpg'\n",
    "img_size=100\n",
    "data=[]\n",
    "img=cv2.imread(img_path)\n",
    "gray=cv2.cvtColor(img,cv2.COLOR_BGR2GRAY)\n",
    "resized=cv2.resize(gray,(img_size,img_size))\n",
    "data.append(resized)\n",
    "data=np.array(data)/255.0\n",
    "data=np.reshape(data,(data.shape[0],img_size,img_size,1))"
   ]
  },
  {
   "cell_type": "code",
   "execution_count": 24,
   "metadata": {},
   "outputs": [],
   "source": [
    "output = new_model.predict(data)"
   ]
  },
  {
   "cell_type": "code",
   "execution_count": 25,
   "metadata": {
    "scrolled": true
   },
   "outputs": [
    {
     "name": "stdout",
     "output_type": "stream",
     "text": [
      "[[0.00447709 0.995523  ]]\n"
     ]
    }
   ],
   "source": [
    "print(output)"
   ]
  }
 ],
 "metadata": {
  "kernelspec": {
   "display_name": "Python 3",
   "language": "python",
   "name": "python3"
  },
  "language_info": {
   "codemirror_mode": {
    "name": "ipython",
    "version": 3
   },
   "file_extension": ".py",
   "mimetype": "text/x-python",
   "name": "python",
   "nbconvert_exporter": "python",
   "pygments_lexer": "ipython3",
   "version": "3.7.6"
  }
 },
 "nbformat": 4,
 "nbformat_minor": 4
}
